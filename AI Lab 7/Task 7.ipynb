{
 "cells": [
  {
   "cell_type": "markdown",
   "id": "30e12765",
   "metadata": {},
   "source": [
    "Write code for A* (A-Star) Algorithm."
   ]
  },
  {
   "cell_type": "code",
   "execution_count": 1,
   "id": "e76211de",
   "metadata": {},
   "outputs": [
    {
     "name": "stdout",
     "output_type": "stream",
     "text": [
      "Shortest Path Found: ['A', 'B', 'D']\n"
     ]
    },
    {
     "data": {
      "text/plain": [
       "['A', 'B', 'D']"
      ]
     },
     "execution_count": 1,
     "metadata": {},
     "output_type": "execute_result"
    }
   ],
   "source": [
    "class Graph:\n",
    "    def __init__(self, adj_list):\n",
    "        self.adj_list = adj_list\n",
    "\n",
    "    def get_neighbors(self, node):\n",
    "        return self.adj_list[node]\n",
    "\n",
    "    def h(self, node):\n",
    "        H = {\n",
    "            'A': 1,\n",
    "            'B': 2,\n",
    "            'C': 3,\n",
    "            'D': 0\n",
    "        }\n",
    "        return H[node]\n",
    "\n",
    "    def a_star(self, start, goal):\n",
    "        open_nodes = set([start])\n",
    "        closed_nodes = set([])\n",
    "\n",
    "        g_cost = {}\n",
    "        g_cost[start] = 0\n",
    "\n",
    "        parent = {}\n",
    "        parent[start] = start\n",
    "\n",
    "        while len(open_nodes) > 0:\n",
    "            current = None\n",
    "\n",
    "            for v in open_nodes:\n",
    "                if current is None or g_cost[v] + self.h(v) < g_cost[current] + self.h(current):\n",
    "                    current = v\n",
    "\n",
    "            if current is None:\n",
    "                print(\"No path found!\")\n",
    "                return None\n",
    "\n",
    "            if current == goal:\n",
    "                path = []\n",
    "                while parent[current] != current:\n",
    "                    path.append(current)\n",
    "                    current = parent[current]\n",
    "                path.append(start)\n",
    "                path.reverse()\n",
    "                print(\"Shortest Path Found:\", path)\n",
    "                return path\n",
    "\n",
    "            for (neighbor, weight) in self.get_neighbors(current):\n",
    "                if neighbor not in open_nodes and neighbor not in closed_nodes:\n",
    "                    open_nodes.add(neighbor)\n",
    "                    parent[neighbor] = current\n",
    "                    g_cost[neighbor] = g_cost[current] + weight\n",
    "                else:\n",
    "                    if g_cost[neighbor] > g_cost[current] + weight:\n",
    "                        g_cost[neighbor] = g_cost[current] + weight\n",
    "                        parent[neighbor] = current\n",
    "                        if neighbor in closed_nodes:\n",
    "                            closed_nodes.remove(neighbor)\n",
    "                            open_nodes.add(neighbor)\n",
    "\n",
    "            open_nodes.remove(current)\n",
    "            closed_nodes.add(current)\n",
    "\n",
    "        print(\"No path found!\")\n",
    "        return None\n",
    "\n",
    "\n",
    "adj_list = {\n",
    "    'A': [('B', 1), ('C', 3), ('D', 7)],\n",
    "    'B': [('D', 5)],\n",
    "    'C': [('D', 12)]\n",
    "}\n",
    "\n",
    "graph = Graph(adj_list)\n",
    "graph.a_star('A', 'D')\n"
   ]
  }
 ],
 "metadata": {
  "kernelspec": {
   "display_name": "Python 3",
   "language": "python",
   "name": "python3"
  },
  "language_info": {
   "codemirror_mode": {
    "name": "ipython",
    "version": 3
   },
   "file_extension": ".py",
   "mimetype": "text/x-python",
   "name": "python",
   "nbconvert_exporter": "python",
   "pygments_lexer": "ipython3",
   "version": "3.11.9"
  }
 },
 "nbformat": 4,
 "nbformat_minor": 5
}
