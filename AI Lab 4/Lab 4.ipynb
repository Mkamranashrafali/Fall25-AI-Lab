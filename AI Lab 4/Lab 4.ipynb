{
 "cells": [
  {
   "cell_type": "markdown",
   "id": "67b7e5b5",
   "metadata": {},
   "source": [
    "## 1:  Code for LUHN Algorithm "
   ]
  },
  {
   "cell_type": "code",
   "execution_count": 7,
   "id": "7d41a4f2",
   "metadata": {},
   "outputs": [
    {
     "name": "stdout",
     "output_type": "stream",
     "text": [
      "4539578763621486 is VALID\n"
     ]
    }
   ],
   "source": [
    "def luhn_check(number):\n",
    "    number = str(number)\n",
    "    reversed_number = number[::-1]\n",
    "\n",
    "    total = 0\n",
    "\n",
    "    for i in range(len(reversed_number)):\n",
    "        digit = int(reversed_number[i])\n",
    "\n",
    "        if i % 2 == 1:\n",
    "            digit = digit * 2\n",
    "            if digit > 9:\n",
    "                digit = digit - 9\n",
    "\n",
    "        total = total + digit\n",
    "\n",
    "    if total % 10 == 0:\n",
    "        return True\n",
    "    else:\n",
    "        return False\n",
    "\n",
    "\n",
    "card_number = \"4539578763621486\"\n",
    "\n",
    "if luhn_check(card_number):\n",
    "    print(card_number, \"is VALID\")\n",
    "else:\n",
    "    print(card_number, \"is INVALID\")\n",
    "\n"
   ]
  },
  {
   "cell_type": "markdown",
   "id": "87b98f59",
   "metadata": {},
   "source": [
    "## 2: Write a python program to remove punctuations from the given string?"
   ]
  },
  {
   "cell_type": "code",
   "execution_count": null,
   "id": "526c91f2",
   "metadata": {},
   "outputs": [
    {
     "name": "stdout",
     "output_type": "stream",
     "text": [
      "Original: Hello!!! How are you? I'm fine...\n",
      "Without Punctuations: Hello How are you Im fine\n"
     ]
    }
   ],
   "source": [
    "def remove_punctuations(text):\n",
    "    punctuations = '''!()-[]{};:'\",<>./?@#$%^&*_~'''\n",
    "    result = \"\"\n",
    "    for ch in text:\n",
    "        if ch not in punctuations:\n",
    "            result += ch\n",
    "    return result\n",
    "\n",
    "sentence = \"Hello!!! How are you? I'm fine...\"\n",
    "print(\"Original:\", sentence)\n",
    "print(\"Without Punctuations:\", remove_punctuations(sentence))\n"
   ]
  },
  {
   "cell_type": "markdown",
   "id": "d6f2dc88",
   "metadata": {},
   "source": [
    "## 3. Write a python program to sort the sentence in alphabetical order?"
   ]
  },
  {
   "cell_type": "code",
   "execution_count": 6,
   "id": "a65cf54f",
   "metadata": {},
   "outputs": [
    {
     "name": "stdout",
     "output_type": "stream",
     "text": [
      "Original: My name is Kamran I am from Lahore\n",
      "Sorted: I Kamran Lahore My am from is name\n"
     ]
    }
   ],
   "source": [
    "sentence = \"My name is Kamran I am from Lahore\"\n",
    "\n",
    "words = sentence.split()\n",
    "\n",
    "ascii_values = []\n",
    "for w in words:\n",
    "    ascii_values.append(ord(w[0]))\n",
    "\n",
    "for i in range(len(ascii_values)):\n",
    "    for j in range(i+1, len(ascii_values)):\n",
    "        if ascii_values[i] > ascii_values[j]:\n",
    "            ascii_values[i], ascii_values[j] = ascii_values[j], ascii_values[i]\n",
    "            words[i], words[j] = words[j], words[i]\n",
    "\n",
    "sorted_sentence = \" \".join(words)\n",
    "\n",
    "print(\"Original:\", sentence)\n",
    "print(\"Sorted:\", sorted_sentence)\n"
   ]
  }
 ],
 "metadata": {
  "kernelspec": {
   "display_name": "Python 3",
   "language": "python",
   "name": "python3"
  },
  "language_info": {
   "codemirror_mode": {
    "name": "ipython",
    "version": 3
   },
   "file_extension": ".py",
   "mimetype": "text/x-python",
   "name": "python",
   "nbconvert_exporter": "python",
   "pygments_lexer": "ipython3",
   "version": "3.11.9"
  }
 },
 "nbformat": 4,
 "nbformat_minor": 5
}
