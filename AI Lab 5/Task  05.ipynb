{
 "cells": [
  {
   "cell_type": "markdown",
   "id": "f336af95",
   "metadata": {},
   "source": [
    "### DFS with Stack"
   ]
  },
  {
   "cell_type": "code",
   "execution_count": 24,
   "id": "d7abb441",
   "metadata": {},
   "outputs": [
    {
     "name": "stdout",
     "output_type": "stream",
     "text": [
      "Visiting: A\n",
      "Visiting: B\n",
      "Visiting: D\n",
      "Visiting: E\n",
      "Visiting: C\n",
      "Goal: C found!\n",
      "DFS Traversal: ['A', 'B', 'D', 'E', 'C']\n"
     ]
    }
   ],
   "source": [
    "tree = {\n",
    "    'A': ['B', 'C'],\n",
    "    'B': ['D', 'E'],\n",
    "    'C': ['F'],\n",
    "    'D': [],\n",
    "    'E': [],\n",
    "    'F': ['G'],\n",
    "    'G': []\n",
    "}\n",
    "\n",
    "def dfs_stack(start, goal):\n",
    "    visited = []\n",
    "    stack = [start]\n",
    "\n",
    "    while stack:\n",
    "        current = stack.pop()\n",
    "        if current not in visited:\n",
    "            visited.append(current)\n",
    "            print(\"Visiting:\", current)\n",
    "            if current == goal:\n",
    "                print(\"Goal:\", goal, \"found!\")\n",
    "                return visited\n",
    "            for child in reversed(tree[current]):\n",
    "                if child not in visited:\n",
    "                    stack.append(child)\n",
    "\n",
    "    print(\"Goal:\", goal, \"not found.\")\n",
    "    return visited\n",
    "\n",
    "visited_nodes = dfs_stack('A', 'C')\n",
    "print(\"DFS Traversal:\", visited_nodes)\n",
    "\n",
    "\n",
    "#or\n",
    "\n"
   ]
  },
  {
   "cell_type": "markdown",
   "id": "c7d28ab0",
   "metadata": {},
   "source": [
    "### DFS with Stack and nodes"
   ]
  },
  {
   "cell_type": "code",
   "execution_count": 25,
   "id": "53a53b6e",
   "metadata": {},
   "outputs": [
    {
     "name": "stdout",
     "output_type": "stream",
     "text": [
      "Visiting: A\n",
      "Visiting: B\n",
      "Visiting: D\n",
      "Visiting: E\n",
      "Visiting: C\n",
      "Goal: C found!\n",
      "DFS Stack: ['A', 'B', 'D', 'E', 'C']\n"
     ]
    }
   ],
   "source": [
    "class Node:\n",
    "    def __init__(self, value):\n",
    "        self.value = value\n",
    "        self.children = []\n",
    "\n",
    "    def add_child(self, child):\n",
    "        self.children.append(child)\n",
    "\n",
    "\n",
    "def stack(start, goal):\n",
    "    visited = []\n",
    "    stack = [start]\n",
    "\n",
    "    while stack:\n",
    "        current = stack.pop()   \n",
    "        if current not in visited:\n",
    "            visited.append(current)\n",
    "            print(\"Visiting:\", current.value)\n",
    "            if current.value == goal:\n",
    "                print(\"Goal:\", goal, \"found!\")\n",
    "                return visited\n",
    "            for child in reversed(current.children):\n",
    "                if child not in visited:\n",
    "                    stack.append(child)\n",
    "\n",
    "    print(\"Goal:\", goal, \"not found.\")\n",
    "\n",
    "a = Node('A')\n",
    "b = Node('B')\n",
    "c = Node('C')\n",
    "d = Node('D')\n",
    "e = Node('E')\n",
    "f = Node('F')\n",
    "g = Node('G')\n",
    "\n",
    "a.add_child(b)\n",
    "a.add_child(c)\n",
    "b.add_child(d)\n",
    "b.add_child(e)\n",
    "c.add_child(f)\n",
    "f.add_child(g)\n",
    "\n",
    "visited_nodes = stack(a, 'C')\n",
    "x = [node.value for node in visited_nodes]\n",
    "print(\"DFS Stack:\", x)\n"
   ]
  },
  {
   "cell_type": "code",
   "execution_count": null,
   "id": "3ebf3247",
   "metadata": {},
   "outputs": [],
   "source": []
  }
 ],
 "metadata": {
  "kernelspec": {
   "display_name": "Python 3",
   "language": "python",
   "name": "python3"
  },
  "language_info": {
   "codemirror_mode": {
    "name": "ipython",
    "version": 3
   },
   "file_extension": ".py",
   "mimetype": "text/x-python",
   "name": "python",
   "nbconvert_exporter": "python",
   "pygments_lexer": "ipython3",
   "version": "3.9.11"
  }
 },
 "nbformat": 4,
 "nbformat_minor": 5
}
