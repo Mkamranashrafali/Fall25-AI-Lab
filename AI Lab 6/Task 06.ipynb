{
 "cells": [
  {
   "cell_type": "markdown",
   "id": "d06dde97",
   "metadata": {},
   "source": [
    "#### BFS without Queue & without Node"
   ]
  },
  {
   "cell_type": "code",
   "execution_count": 10,
   "id": "e3bc2874",
   "metadata": {},
   "outputs": [
    {
     "name": "stdout",
     "output_type": "stream",
     "text": [
      "D\n",
      "E\n",
      "F\n",
      "A\n",
      "C\n",
      "G\n"
     ]
    }
   ],
   "source": [
    "graph = {\n",
    "    'D': ['E', 'F'],\n",
    "    'E': ['A', 'C'],\n",
    "    'F': ['G'],\n",
    "    'A': [],\n",
    "    'C': [],\n",
    "    'G': []\n",
    "}\n",
    "\n",
    "def bfs(graph, start):\n",
    "    visited = []\n",
    "    nodes = [start]\n",
    "\n",
    "    while nodes:\n",
    "        n = nodes[0]\n",
    "        print(n)\n",
    "        visited.append(n)\n",
    "        for neighbor in graph[n]:\n",
    "            if neighbor not in visited and neighbor not in nodes:\n",
    "                nodes.append(neighbor)\n",
    "        nodes = nodes[1:]\n",
    "\n",
    "bfs(graph, 'D')"
   ]
  },
  {
   "cell_type": "markdown",
   "id": "1091ad5d",
   "metadata": {},
   "source": [
    "#### BFS with Queue & Node  "
   ]
  },
  {
   "cell_type": "code",
   "execution_count": 11,
   "id": "f903151b",
   "metadata": {},
   "outputs": [
    {
     "name": "stdout",
     "output_type": "stream",
     "text": [
      "BFS traversal output:\n",
      "J\n",
      "E\n",
      "C\n",
      "A\n"
     ]
    }
   ],
   "source": [
    "class Node:\n",
    "    def __init__(self, value):\n",
    "        self.value = value\n",
    "        self.visited = False\n",
    "        self.neighbors = []\n",
    "\n",
    "def bfs(start_node):\n",
    "    queue = []\n",
    "    start_node.visited = True\n",
    "    queue.append(start_node)\n",
    "\n",
    "    while queue:\n",
    "        current_node = queue.pop(0)\n",
    "        print(current_node.value)\n",
    "        for i in current_node.neighbors:\n",
    "            if not i.visited:\n",
    "                i.visited = True\n",
    "                queue.append(i)\n",
    "\n",
    "def reset_visited(nodes):\n",
    "    for node in nodes:\n",
    "        node.visited = False\n",
    "\n",
    "root = Node('J')\n",
    "b = Node('E')\n",
    "c = Node('F')\n",
    "d = Node('A')\n",
    "e = Node('C')\n",
    "f = Node('G')\n",
    "\n",
    "root.neighbors = [b, e]\n",
    "b.neighbors = [d, e]\n",
    "c.neighbors = [f]\n",
    "all_nodes = [root, b, c, d, e, f]\n",
    "print(\"BFS traversal output:\")\n",
    "bfs(root)\n",
    "\n",
    "reset_visited(all_nodes)"
   ]
  }
 ],
 "metadata": {
  "kernelspec": {
   "display_name": "base",
   "language": "python",
   "name": "python3"
  },
  "language_info": {
   "codemirror_mode": {
    "name": "ipython",
    "version": 3
   },
   "file_extension": ".py",
   "mimetype": "text/x-python",
   "name": "python",
   "nbconvert_exporter": "python",
   "pygments_lexer": "ipython3",
   "version": "3.13.5"
  }
 },
 "nbformat": 4,
 "nbformat_minor": 5
}
